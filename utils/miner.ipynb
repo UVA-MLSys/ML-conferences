{
 "cells": [
  {
   "cell_type": "code",
   "execution_count": null,
   "metadata": {},
   "outputs": [],
   "source": [
    "import requests\n",
    "from bs4 import BeautifulSoup\n",
    "import csv, os\n",
    "import pandas as pd\n",
    "\n",
    "# URL of the AAAI 2024 page on DBLP\n",
    "url = \"https://dblp.uni-trier.de/db/conf/aaai/aaai2024.html\"\n",
    "\n",
    "\n",
    "if os.path.exists(\"data/aaai2024.html\"):\n",
    "    with open(\"aaai2024.html\", \"r\") as file:\n",
    "        html_content = file.read()\n",
    "        soup = BeautifulSoup(html_content, \"html.parser\")\n",
    "else: \n",
    "    # Send an HTTP GET request\n",
    "    response = requests.get(url)\n",
    "    response.raise_for_status()  # Ensure the request was successful\n",
    "    \n",
    "    with open(\"aaai2024.html\", \"w\") as f:\n",
    "        f.write(response.text)\n",
    "\n",
    "    # Parse HTML with BeautifulSoup\n",
    "    soup = BeautifulSoup(response.text, \"html.parser\")"
   ]
  },
  {
   "cell_type": "code",
   "execution_count": 15,
   "metadata": {},
   "outputs": [],
   "source": [
    "with open(\"aaai2024.html\", \"w\") as f:\n",
    "    f.write(response.text)"
   ]
  },
  {
   "cell_type": "code",
   "execution_count": 4,
   "metadata": {},
   "outputs": [],
   "source": [
    "# Find all sections (div with class 'section' or header tags)\n",
    "sections = soup.find_all([\"h2\", \"h3\", \"h4\"])  # Section headers (may vary)\n",
    "\n",
    "# Prepare list to store extracted data\n",
    "papers = []\n",
    "\n",
    "current_section = \"Unknown Section\"  # Default section name\n",
    "\n",
    "# Loop through elements and extract section-wise papers\n",
    "for element in soup.find_all([\"h2\", \"h3\", \"h4\", \"cite\"]):\n",
    "    if element.name in [\"h2\", \"h3\", \"h4\"]:  # Section headers\n",
    "        current_section = element.text.strip()\n",
    "    elif element.name == \"cite\":  # Paper entries\n",
    "        paper_title = element.text.strip()\n",
    "        papers.append([current_section, paper_title])"
   ]
  },
  {
   "cell_type": "code",
   "execution_count": null,
   "metadata": {},
   "outputs": [],
   "source": [
    "df = pd.DataFrame(papers, columns=[\"Section\", \"Paper Title\"])\n",
    "df.to_csv('AAAI_2024_Papers.csv', index=False)"
   ]
  }
 ],
 "metadata": {
  "kernelspec": {
   "display_name": "Python 3",
   "language": "python",
   "name": "python3"
  },
  "language_info": {
   "codemirror_mode": {
    "name": "ipython",
    "version": 3
   },
   "file_extension": ".py",
   "mimetype": "text/x-python",
   "name": "python",
   "nbconvert_exporter": "python",
   "pygments_lexer": "ipython3",
   "version": "3.10.11"
  }
 },
 "nbformat": 4,
 "nbformat_minor": 2
}
